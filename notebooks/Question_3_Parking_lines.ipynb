{
  "nbformat": 4,
  "nbformat_minor": 0,
  "metadata": {
    "colab": {
      "provenance": [],
      "toc_visible": true
    },
    "kernelspec": {
      "name": "python3",
      "display_name": "Python 3"
    },
    "language_info": {
      "name": "python"
    }
  },
  "cells": [
    {
      "cell_type": "markdown",
      "source": [
        "### **This notebook presents a formulation and solution of the following operations research question**.\n",
        "\n",
        "I'm using the PYOMO framework and the GLPK solver."
      ],
      "metadata": {
        "id": "0IjUmBJLtI0a"
      }
    },
    {
      "cell_type": "markdown",
      "source": [
        "<a href=\"https://colab.research.google.com/github/anapdinizm/operations-research-problems/blob/master/notebooks/Question 2 - Choosing pipes.ipynb\"><img align=\"left\" src=\"https://colab.research.google.com/assets/colab-badge.svg\" alt=\"Open in Colab\" title=\"Open in Google Colaboratory\"></a><p><a href=\"https://raw.githubusercontent.com/anapdinizm/operations-research-problems/master/notebooks/Question 2 - Choosing pipes.ipynb\"><img align=\"left\" src=\"https://img.shields.io/badge/Github-Download-blue.svg\" alt=\"Download\" title=\"Download Notebook\"></a>"
      ],
      "metadata": {
        "id": "rA64Sdm3tVWj"
      }
    },
    {
      "cell_type": "code",
      "source": [
        "# Installing necessary packages\n",
        "!apt-get install libglpk-dev\n",
        "!apt-get install -y -qq glpk-utils\n",
        "!pip install glpk\n",
        "!pip install pyomo"
      ],
      "metadata": {
        "colab": {
          "base_uri": "https://localhost:8080/"
        },
        "id": "3cK98xbAuUjB",
        "outputId": "948d9ce9-305a-45a4-b504-6b0d79f99a35"
      },
      "execution_count": 1,
      "outputs": [
        {
          "output_type": "stream",
          "name": "stdout",
          "text": [
            "Reading package lists... Done\n",
            "Building dependency tree... Done\n",
            "Reading state information... Done\n",
            "The following additional packages will be installed:\n",
            "  libamd2 libbtf1 libcamd2 libccolamd2 libcholmod3 libcolamd2 libcxsparse3 libglpk40 libgmp-dev\n",
            "  libgmpxx4ldbl libgraphblas-dev libgraphblas6 libklu1 libldl2 libmetis5 libmongoose2 librbio2\n",
            "  libsliplu1 libspqr2 libsuitesparse-dev libsuitesparseconfig5 libumfpack5\n",
            "Suggested packages:\n",
            "  libiodbc2-dev gmp-doc libgmp10-doc libmpfr-dev\n",
            "The following NEW packages will be installed:\n",
            "  libamd2 libbtf1 libcamd2 libccolamd2 libcholmod3 libcolamd2 libcxsparse3 libglpk-dev libglpk40\n",
            "  libgmp-dev libgmpxx4ldbl libgraphblas-dev libgraphblas6 libklu1 libldl2 libmetis5 libmongoose2\n",
            "  librbio2 libsliplu1 libspqr2 libsuitesparse-dev libsuitesparseconfig5 libumfpack5\n",
            "0 upgraded, 23 newly installed, 0 to remove and 35 not upgraded.\n",
            "Need to get 23.5 MB of archives.\n",
            "After this operation, 174 MB of additional disk space will be used.\n",
            "Get:1 http://archive.ubuntu.com/ubuntu jammy/main amd64 libsuitesparseconfig5 amd64 1:5.10.1+dfsg-4build1 [10.4 kB]\n",
            "Get:2 http://archive.ubuntu.com/ubuntu jammy/universe amd64 libamd2 amd64 1:5.10.1+dfsg-4build1 [21.6 kB]\n",
            "Get:3 http://archive.ubuntu.com/ubuntu jammy/universe amd64 libbtf1 amd64 1:5.10.1+dfsg-4build1 [12.1 kB]\n",
            "Get:4 http://archive.ubuntu.com/ubuntu jammy/universe amd64 libcamd2 amd64 1:5.10.1+dfsg-4build1 [23.3 kB]\n",
            "Get:5 http://archive.ubuntu.com/ubuntu jammy/universe amd64 libccolamd2 amd64 1:5.10.1+dfsg-4build1 [25.2 kB]\n",
            "Get:6 http://archive.ubuntu.com/ubuntu jammy/main amd64 libcolamd2 amd64 1:5.10.1+dfsg-4build1 [18.0 kB]\n",
            "Get:7 http://archive.ubuntu.com/ubuntu jammy/universe amd64 libmetis5 amd64 5.1.0.dfsg-7build2 [181 kB]\n",
            "Get:8 http://archive.ubuntu.com/ubuntu jammy/universe amd64 libcholmod3 amd64 1:5.10.1+dfsg-4build1 [346 kB]\n",
            "Get:9 http://archive.ubuntu.com/ubuntu jammy/universe amd64 libcxsparse3 amd64 1:5.10.1+dfsg-4build1 [70.8 kB]\n",
            "Get:10 http://archive.ubuntu.com/ubuntu jammy/universe amd64 libglpk40 amd64 5.0-1 [361 kB]\n",
            "Get:11 http://archive.ubuntu.com/ubuntu jammy/main amd64 libgmpxx4ldbl amd64 2:6.2.1+dfsg-3ubuntu1 [9,580 B]\n",
            "Get:12 http://archive.ubuntu.com/ubuntu jammy/main amd64 libgmp-dev amd64 2:6.2.1+dfsg-3ubuntu1 [337 kB]\n",
            "Get:13 http://archive.ubuntu.com/ubuntu jammy/universe amd64 libklu1 amd64 1:5.10.1+dfsg-4build1 [77.6 kB]\n",
            "Get:14 http://archive.ubuntu.com/ubuntu jammy/universe amd64 libldl2 amd64 1:5.10.1+dfsg-4build1 [11.7 kB]\n",
            "Get:15 http://archive.ubuntu.com/ubuntu jammy/universe amd64 libmongoose2 amd64 1:5.10.1+dfsg-4build1 [33.5 kB]\n",
            "Get:16 http://archive.ubuntu.com/ubuntu jammy/universe amd64 libumfpack5 amd64 1:5.10.1+dfsg-4build1 [250 kB]\n",
            "Get:17 http://archive.ubuntu.com/ubuntu jammy/universe amd64 librbio2 amd64 1:5.10.1+dfsg-4build1 [26.6 kB]\n",
            "Get:18 http://archive.ubuntu.com/ubuntu jammy/universe amd64 libspqr2 amd64 1:5.10.1+dfsg-4build1 [71.6 kB]\n",
            "Get:19 http://archive.ubuntu.com/ubuntu jammy/universe amd64 libsliplu1 amd64 1:5.10.1+dfsg-4build1 [37.1 kB]\n",
            "Get:20 http://archive.ubuntu.com/ubuntu jammy/universe amd64 libsuitesparse-dev amd64 1:5.10.1+dfsg-4build1 [1,058 kB]\n",
            "Get:21 http://archive.ubuntu.com/ubuntu jammy/universe amd64 libglpk-dev amd64 5.0-1 [430 kB]\n",
            "Get:22 http://archive.ubuntu.com/ubuntu jammy/universe amd64 libgraphblas6 amd64 6.1.4+dfsg-2 [20.1 MB]\n",
            "Get:23 http://archive.ubuntu.com/ubuntu jammy/universe amd64 libgraphblas-dev amd64 6.1.4+dfsg-2 [54.4 kB]\n",
            "Fetched 23.5 MB in 11s (2,095 kB/s)\n",
            "Selecting previously unselected package libsuitesparseconfig5:amd64.\n",
            "(Reading database ... 121749 files and directories currently installed.)\n",
            "Preparing to unpack .../00-libsuitesparseconfig5_1%3a5.10.1+dfsg-4build1_amd64.deb ...\n",
            "Unpacking libsuitesparseconfig5:amd64 (1:5.10.1+dfsg-4build1) ...\n",
            "Selecting previously unselected package libamd2:amd64.\n",
            "Preparing to unpack .../01-libamd2_1%3a5.10.1+dfsg-4build1_amd64.deb ...\n",
            "Unpacking libamd2:amd64 (1:5.10.1+dfsg-4build1) ...\n",
            "Selecting previously unselected package libbtf1:amd64.\n",
            "Preparing to unpack .../02-libbtf1_1%3a5.10.1+dfsg-4build1_amd64.deb ...\n",
            "Unpacking libbtf1:amd64 (1:5.10.1+dfsg-4build1) ...\n",
            "Selecting previously unselected package libcamd2:amd64.\n",
            "Preparing to unpack .../03-libcamd2_1%3a5.10.1+dfsg-4build1_amd64.deb ...\n",
            "Unpacking libcamd2:amd64 (1:5.10.1+dfsg-4build1) ...\n",
            "Selecting previously unselected package libccolamd2:amd64.\n",
            "Preparing to unpack .../04-libccolamd2_1%3a5.10.1+dfsg-4build1_amd64.deb ...\n",
            "Unpacking libccolamd2:amd64 (1:5.10.1+dfsg-4build1) ...\n",
            "Selecting previously unselected package libcolamd2:amd64.\n",
            "Preparing to unpack .../05-libcolamd2_1%3a5.10.1+dfsg-4build1_amd64.deb ...\n",
            "Unpacking libcolamd2:amd64 (1:5.10.1+dfsg-4build1) ...\n",
            "Selecting previously unselected package libmetis5:amd64.\n",
            "Preparing to unpack .../06-libmetis5_5.1.0.dfsg-7build2_amd64.deb ...\n",
            "Unpacking libmetis5:amd64 (5.1.0.dfsg-7build2) ...\n",
            "Selecting previously unselected package libcholmod3:amd64.\n",
            "Preparing to unpack .../07-libcholmod3_1%3a5.10.1+dfsg-4build1_amd64.deb ...\n",
            "Unpacking libcholmod3:amd64 (1:5.10.1+dfsg-4build1) ...\n",
            "Selecting previously unselected package libcxsparse3:amd64.\n",
            "Preparing to unpack .../08-libcxsparse3_1%3a5.10.1+dfsg-4build1_amd64.deb ...\n",
            "Unpacking libcxsparse3:amd64 (1:5.10.1+dfsg-4build1) ...\n",
            "Selecting previously unselected package libglpk40:amd64.\n",
            "Preparing to unpack .../09-libglpk40_5.0-1_amd64.deb ...\n",
            "Unpacking libglpk40:amd64 (5.0-1) ...\n",
            "Selecting previously unselected package libgmpxx4ldbl:amd64.\n",
            "Preparing to unpack .../10-libgmpxx4ldbl_2%3a6.2.1+dfsg-3ubuntu1_amd64.deb ...\n",
            "Unpacking libgmpxx4ldbl:amd64 (2:6.2.1+dfsg-3ubuntu1) ...\n",
            "Selecting previously unselected package libgmp-dev:amd64.\n",
            "Preparing to unpack .../11-libgmp-dev_2%3a6.2.1+dfsg-3ubuntu1_amd64.deb ...\n",
            "Unpacking libgmp-dev:amd64 (2:6.2.1+dfsg-3ubuntu1) ...\n",
            "Selecting previously unselected package libklu1:amd64.\n",
            "Preparing to unpack .../12-libklu1_1%3a5.10.1+dfsg-4build1_amd64.deb ...\n",
            "Unpacking libklu1:amd64 (1:5.10.1+dfsg-4build1) ...\n",
            "Selecting previously unselected package libldl2:amd64.\n",
            "Preparing to unpack .../13-libldl2_1%3a5.10.1+dfsg-4build1_amd64.deb ...\n",
            "Unpacking libldl2:amd64 (1:5.10.1+dfsg-4build1) ...\n",
            "Selecting previously unselected package libmongoose2:amd64.\n",
            "Preparing to unpack .../14-libmongoose2_1%3a5.10.1+dfsg-4build1_amd64.deb ...\n",
            "Unpacking libmongoose2:amd64 (1:5.10.1+dfsg-4build1) ...\n",
            "Selecting previously unselected package libumfpack5:amd64.\n",
            "Preparing to unpack .../15-libumfpack5_1%3a5.10.1+dfsg-4build1_amd64.deb ...\n",
            "Unpacking libumfpack5:amd64 (1:5.10.1+dfsg-4build1) ...\n",
            "Selecting previously unselected package librbio2:amd64.\n",
            "Preparing to unpack .../16-librbio2_1%3a5.10.1+dfsg-4build1_amd64.deb ...\n",
            "Unpacking librbio2:amd64 (1:5.10.1+dfsg-4build1) ...\n",
            "Selecting previously unselected package libspqr2:amd64.\n",
            "Preparing to unpack .../17-libspqr2_1%3a5.10.1+dfsg-4build1_amd64.deb ...\n",
            "Unpacking libspqr2:amd64 (1:5.10.1+dfsg-4build1) ...\n",
            "Selecting previously unselected package libsliplu1:amd64.\n",
            "Preparing to unpack .../18-libsliplu1_1%3a5.10.1+dfsg-4build1_amd64.deb ...\n",
            "Unpacking libsliplu1:amd64 (1:5.10.1+dfsg-4build1) ...\n",
            "Selecting previously unselected package libsuitesparse-dev:amd64.\n",
            "Preparing to unpack .../19-libsuitesparse-dev_1%3a5.10.1+dfsg-4build1_amd64.deb ...\n",
            "Unpacking libsuitesparse-dev:amd64 (1:5.10.1+dfsg-4build1) ...\n",
            "Selecting previously unselected package libglpk-dev:amd64.\n",
            "Preparing to unpack .../20-libglpk-dev_5.0-1_amd64.deb ...\n",
            "Unpacking libglpk-dev:amd64 (5.0-1) ...\n",
            "Selecting previously unselected package libgraphblas6:amd64.\n",
            "Preparing to unpack .../21-libgraphblas6_6.1.4+dfsg-2_amd64.deb ...\n",
            "Unpacking libgraphblas6:amd64 (6.1.4+dfsg-2) ...\n",
            "Selecting previously unselected package libgraphblas-dev:amd64.\n",
            "Preparing to unpack .../22-libgraphblas-dev_6.1.4+dfsg-2_amd64.deb ...\n",
            "Unpacking libgraphblas-dev:amd64 (6.1.4+dfsg-2) ...\n",
            "Setting up libgraphblas6:amd64 (6.1.4+dfsg-2) ...\n",
            "Setting up libldl2:amd64 (1:5.10.1+dfsg-4build1) ...\n",
            "Setting up libmetis5:amd64 (5.1.0.dfsg-7build2) ...\n",
            "Setting up libbtf1:amd64 (1:5.10.1+dfsg-4build1) ...\n",
            "Setting up libgraphblas-dev:amd64 (6.1.4+dfsg-2) ...\n",
            "Setting up libgmpxx4ldbl:amd64 (2:6.2.1+dfsg-3ubuntu1) ...\n",
            "Setting up libcxsparse3:amd64 (1:5.10.1+dfsg-4build1) ...\n",
            "Setting up libsuitesparseconfig5:amd64 (1:5.10.1+dfsg-4build1) ...\n",
            "Setting up librbio2:amd64 (1:5.10.1+dfsg-4build1) ...\n",
            "Setting up libamd2:amd64 (1:5.10.1+dfsg-4build1) ...\n",
            "Setting up libgmp-dev:amd64 (2:6.2.1+dfsg-3ubuntu1) ...\n",
            "Setting up libcolamd2:amd64 (1:5.10.1+dfsg-4build1) ...\n",
            "Setting up libsliplu1:amd64 (1:5.10.1+dfsg-4build1) ...\n",
            "Setting up libcamd2:amd64 (1:5.10.1+dfsg-4build1) ...\n",
            "Setting up libmongoose2:amd64 (1:5.10.1+dfsg-4build1) ...\n",
            "Setting up libglpk40:amd64 (5.0-1) ...\n",
            "Setting up libklu1:amd64 (1:5.10.1+dfsg-4build1) ...\n",
            "Setting up libccolamd2:amd64 (1:5.10.1+dfsg-4build1) ...\n",
            "Setting up libcholmod3:amd64 (1:5.10.1+dfsg-4build1) ...\n",
            "Setting up libspqr2:amd64 (1:5.10.1+dfsg-4build1) ...\n",
            "Setting up libumfpack5:amd64 (1:5.10.1+dfsg-4build1) ...\n",
            "Setting up libsuitesparse-dev:amd64 (1:5.10.1+dfsg-4build1) ...\n",
            "Setting up libglpk-dev:amd64 (5.0-1) ...\n",
            "Processing triggers for libc-bin (2.35-0ubuntu3.4) ...\n",
            "/sbin/ldconfig.real: /usr/local/lib/libtbbbind_2_5.so.3 is not a symbolic link\n",
            "\n",
            "/sbin/ldconfig.real: /usr/local/lib/libtbbbind.so.3 is not a symbolic link\n",
            "\n",
            "/sbin/ldconfig.real: /usr/local/lib/libtbbbind_2_0.so.3 is not a symbolic link\n",
            "\n",
            "/sbin/ldconfig.real: /usr/local/lib/libtbbmalloc.so.2 is not a symbolic link\n",
            "\n",
            "/sbin/ldconfig.real: /usr/local/lib/libtbbmalloc_proxy.so.2 is not a symbolic link\n",
            "\n",
            "/sbin/ldconfig.real: /usr/local/lib/libtbb.so.12 is not a symbolic link\n",
            "\n",
            "Selecting previously unselected package glpk-utils.\n",
            "(Reading database ... 121991 files and directories currently installed.)\n",
            "Preparing to unpack .../glpk-utils_5.0-1_amd64.deb ...\n",
            "Unpacking glpk-utils (5.0-1) ...\n",
            "Setting up glpk-utils (5.0-1) ...\n",
            "Processing triggers for man-db (2.10.2-1) ...\n",
            "Collecting glpk\n",
            "  Downloading glpk-0.4.7.tar.gz (161 kB)\n",
            "\u001b[2K     \u001b[90m━━━━━━━━━━━━━━━━━━━━━━━━━━━━━━━━━━━━━━━━\u001b[0m \u001b[32m161.2/161.2 kB\u001b[0m \u001b[31m3.6 MB/s\u001b[0m eta \u001b[36m0:00:00\u001b[0m\n",
            "\u001b[?25h  Installing build dependencies ... \u001b[?25l\u001b[?25hdone\n",
            "  Getting requirements to build wheel ... \u001b[?25l\u001b[?25hdone\n",
            "  Preparing metadata (pyproject.toml) ... \u001b[?25l\u001b[?25hdone\n",
            "Building wheels for collected packages: glpk\n",
            "  Building wheel for glpk (pyproject.toml) ... \u001b[?25l\u001b[?25hdone\n",
            "  Created wheel for glpk: filename=glpk-0.4.7-cp310-cp310-linux_x86_64.whl size=172082 sha256=7126af72f0275980fa8635180e5e691d1ef0ae251ac8278fbacd3fffe14a5694\n",
            "  Stored in directory: /root/.cache/pip/wheels/86/bf/ba/de35ea20a0e1a1babaf6220e0031cc1e14d5707d0e08698d99\n",
            "Successfully built glpk\n",
            "Installing collected packages: glpk\n",
            "Successfully installed glpk-0.4.7\n",
            "Collecting pyomo\n",
            "  Downloading Pyomo-6.7.1-cp310-cp310-manylinux_2_17_x86_64.manylinux2014_x86_64.whl (12.7 MB)\n",
            "\u001b[2K     \u001b[90m━━━━━━━━━━━━━━━━━━━━━━━━━━━━━━━━━━━━━━━━\u001b[0m \u001b[32m12.7/12.7 MB\u001b[0m \u001b[31m16.2 MB/s\u001b[0m eta \u001b[36m0:00:00\u001b[0m\n",
            "\u001b[?25hCollecting ply (from pyomo)\n",
            "  Downloading ply-3.11-py2.py3-none-any.whl (49 kB)\n",
            "\u001b[2K     \u001b[90m━━━━━━━━━━━━━━━━━━━━━━━━━━━━━━━━━━━━━━━━\u001b[0m \u001b[32m49.6/49.6 kB\u001b[0m \u001b[31m5.5 MB/s\u001b[0m eta \u001b[36m0:00:00\u001b[0m\n",
            "\u001b[?25hInstalling collected packages: ply, pyomo\n",
            "Successfully installed ply-3.11 pyomo-6.7.1\n"
          ]
        }
      ]
    },
    {
      "cell_type": "markdown",
      "source": [
        "## **Question 3**"
      ],
      "metadata": {
        "id": "kXxl2UyXBWvy"
      }
    },
    {
      "cell_type": "markdown",
      "source": [
        "### **STATEMENT**"
      ],
      "metadata": {
        "id": "nqh8LwnGBcHA"
      }
    },
    {
      "cell_type": "markdown",
      "source": [
        "Along a certain street in the city of Belo Horizonte, cars can be parked on both\n",
        "sides. One person, who lives at number 1, is organizing a party for around 30 people, who will arrive in 15 cars. The length of the i − th car is λᵢ, expressed in meters as follows:\n",
        "\n",
        "\n",
        "| i | 1 | 2 | 3 | 4 | 5 | 6 | 7 | 8 | 9 | 10 | 11 | 12 | 13 | 14 | 15 |\n",
        "|---|---|---|---|---|---|---|---|---|---|---|---|---|---|---|---|\n",
        "| λᵢ  | 4 | 4.5 | 5 | 4.1 | 2.4 | 5.2 | 3.7 | 3.5 | 3.2 | 4.5 | 2.3 | 3.3 | 3.8 | 4.6 | 3 |\n",
        "\n",
        "Figure 3.1: Problem Instance\n",
        "\n",
        "In order to avoid bothering the neighbours, this person would like **to arrange the parking on both sides of the street so that the length of the street occupied by his friends’ cars should be minimum**. Give a metaheuristic to solve the problem using python language. The code should be commented.\n",
        "\n",
        "How does the program change if on exactly one of the street sides the cars should not occupy more than 15m?"
      ],
      "metadata": {
        "id": "f4xzcBbBDvyM"
      }
    },
    {
      "cell_type": "markdown",
      "source": [
        "### **SOLUTION**"
      ],
      "metadata": {
        "id": "uZ_kdUib1dO6"
      }
    },
    {
      "cell_type": "code",
      "execution_count": 2,
      "metadata": {
        "id": "ip_NGn2ttAg-"
      },
      "outputs": [],
      "source": [
        "#Importing necessary libraries\n",
        "import pandas as pd\n",
        "from pyomo.environ import *\n",
        "import matplotlib.pyplot as plt\n",
        "from IPython.display import display\n",
        "from matplotlib.lines import Line2D"
      ]
    },
    {
      "cell_type": "markdown",
      "source": [
        "#### **Data**"
      ],
      "metadata": {
        "id": "Xps0ZElO1iHq"
      }
    },
    {
      "cell_type": "code",
      "source": [
        "CAR_LENGTH = [4, 4.5, 5, 4.1, 2.4, 5.2, 3.7, 3.5, 3.2, 4.5, 2.3, 3.3, 3.8, 4.6, 3]\n",
        "#cenary one, umlimited capacity, without an upper bound for capacity\n",
        "CAPACITY_1 = [1000, 1000]\n",
        "#cenary two, capacity of 15m for one side of the street\n",
        "CAPACITY_2 = [1000, 15]"
      ],
      "metadata": {
        "id": "gNUzaPhQFAFh"
      },
      "execution_count": 3,
      "outputs": []
    },
    {
      "cell_type": "markdown",
      "source": [
        "#### **Deterministic problem**"
      ],
      "metadata": {
        "id": "NVMMXEqqJnPG"
      }
    },
    {
      "cell_type": "markdown",
      "source": [
        "##### **Model**"
      ],
      "metadata": {
        "id": "usHUnlRWJWVW"
      }
    },
    {
      "cell_type": "markdown",
      "source": [
        "**Variables**\n",
        "\n",
        "In this problem, the decision variable X indicates whether a car ($i$) is parked on side ($j$). The variable Y indicates whether the side $j$ was ocuppied or not by a car.\n",
        "\n",
        "\\begin{align*}\n",
        "  X_{i,j} =\n",
        " \\begin{cases}\n",
        "      1, & \\text{if car } i \\text{ was parked at a specific side } j\\\\\n",
        "      0, & \\text{otherwise}\n",
        " \\end{cases}\n",
        "\\end{align*}\n",
        "\n",
        "\\begin{align*}\n",
        " Y_j =\n",
        " \\begin{cases}\n",
        "      1, & \\text{if side } j \\text{ was used} \\\\\n",
        "      0, & \\text{otherwise}\n",
        " \\end{cases}\n",
        "\\end{align*}\n",
        "\n",
        "**Objective function**\n",
        "\n",
        "For this problem, the objective is minimize the length of street occupied by cars. As we have both sides, minimizing just the sum of length will not give the proper objective, minimizing just the length. To do that minimizing the difference between both sides of street occupied wil help have the miminum of street with cars.\n",
        "\n",
        "\\begin{align*}\n",
        "    \\text{Minimize} \\quad & \\sum_{i \\in I}{l_i X_{i,0}} - {l_i X_{i,1}} \\\\\n",
        "\\end{align*}\n",
        "\n",
        "**Constraints**\n",
        "\n",
        "The parameter $lᵢⱼ$ is the ength per car  $i$, side park $j$ and $cⱼ$ is the capacity per street side $j$ (left or right). The first constraint considers the lmit capacity per street side.\n",
        "\n",
        "\\begin{align*}\n",
        "    \\text{subject to}\n",
        "    \\quad & \\sum_{i \\in I}\\sum_{j \\in J} {l_{i} X_{i,j}} \\leq c_j Y_j & \\forall ~i \\in I, \\forall ~j \\in J\\\\\n",
        "    \\quad & \\sum_{i \\in I}{l_i X_{i,0}} - {l_i X_{i,1}} \\ge 0 & \\forall ~i \\in I \\\\\n",
        "    \\quad & \\sum_{j \\in J} {X_{i,j}} = 1 & \\forall ~i \\in I, \\forall ~j \\in J\\\\\n",
        "    \\quad & X_{i,j} \\in \\left \\{ 0, 1 \\right \\} & \\forall ~i \\in I, \\forall ~j \\in J\\\\\n",
        "    \\quad & Y_{j} \\in \\left \\{ 0, 1 \\right \\} & \\forall ~j \\in J\\\\\n",
        "\\end{align*}\n",
        "\n"
      ],
      "metadata": {
        "id": "_vG3xq2vMsMi"
      }
    },
    {
      "cell_type": "markdown",
      "source": [
        "##### **Code**"
      ],
      "metadata": {
        "id": "Rjsk2G82Fdjl"
      }
    },
    {
      "cell_type": "code",
      "source": [
        "def capacity_restriction(m, j):\n",
        "  '''\n",
        "  This function represents the constraints of the road side capacity.\n",
        "  The input isthe lenght of cars and the capacity per side of the road.\n",
        "  '''\n",
        "  temp = sum(CAR_LENGTH[i] * m.x[i,j] for i in m.I) - CAPACITY_1[j] * m.y[j]\n",
        "  if type(temp) is int:    # This will be true if the sum was empty\n",
        "    return Constraint.Skip\n",
        "  return temp <= 0\n",
        "\n",
        "def diff_pos(m, CAR_LENGTH):\n",
        "  '''\n",
        "  This function represents the constraints that guarantee that the difference in\n",
        "  length between the sides is greater than or equal to zero, i.e. positive.\n",
        "  '''\n",
        "  temp = sum(CAR_LENGTH[i] * m.x[i,0] for i in m.I ) - sum(CAR_LENGTH[i] * m.x[i,1] for i in m.I )\n",
        "  if type(temp) is int:    # This will be true if the sum was empty\n",
        "    return Constraint.Skip\n",
        "  return temp >= 0\n",
        "\n",
        "def side_selected(m, i):\n",
        "  '''\n",
        "  This function represents the constraints that guarantee that a car will be parked\n",
        "   only on one side. Can't be parked on both sides.\n",
        "  '''\n",
        "  temp = sum(m.x[i,j] for j in m.J)\n",
        "  if type(temp) is int:    # This will be true if the sum was empty\n",
        "    return Constraint.Skip\n",
        "  return temp == 1"
      ],
      "metadata": {
        "id": "2zVopky1F50R"
      },
      "execution_count": 64,
      "outputs": []
    },
    {
      "cell_type": "code",
      "source": [
        "def parking_length():\n",
        "  '''\n",
        "  This function creates the model and solves the parking problem.\n",
        "  The input is a list of the car lengths.\n",
        "  The output is the model (m) and the result object of the solution (status).\n",
        "  '''\n",
        "  CAR_LENGTH = [4, 4.5, 5, 4.1, 2.4, 5.2, 3.7, 3.5, 3.2, 4.5, 2.3, 3.3, 3.8, 4.6, 3]\n",
        "  #cenary one, umlimited capacity, without an upper bound for capacity\n",
        "  CAPACITY_1 = [1000, 1000]\n",
        "  #cenary two, capacity of 15m for one side of the street\n",
        "  CAPACITY_2 = [1000, 15]\n",
        "\n",
        "  T = sum(CAR_LENGTH)\n",
        "\n",
        "  # Create model\n",
        "  m = ConcreteModel()\n",
        "\n",
        "  #cars\n",
        "  I = list(range(0,15))\n",
        "  #street side\n",
        "  J = [0,1] # 'left', 'right'\n",
        "\n",
        "  m.I = Set(dimen=1,initialize=I)\n",
        "  m.J = Set(dimen=1,initialize=J)\n",
        "\n",
        "  # Variables\n",
        "  m.x = Var(m.I, m.J, within=Binary)\n",
        "  m.y = Var(m.J, within=Binary)\n",
        "\n",
        "  #Setting the objective function, minimize the length\n",
        "  m.OBJ = Objective(\n",
        "      expr = sum(CAR_LENGTH[i] * m.x[i,0] for i in m.I ) - sum(CAR_LENGTH[i] * m.x[i,1] for i in m.I ),\n",
        "      sense = minimize\n",
        "  )\n",
        "\n",
        "  #Setting all the constraints\n",
        "  m.CONS1 = Constraint(m.J, rule = capacity_restriction)\n",
        "  m.CONS2 = Constraint(rule = diff_pos(m,CAR_LENGTH))\n",
        "  m.CONS3 = Constraint(m.I, rule = side_selected)\n",
        "\n",
        "  ##Call the solver glpk\n",
        "  status = SolverFactory('glpk',executable='/usr/bin/glpsol').solve(m)\n",
        "\n",
        "  return status, m\n"
      ],
      "metadata": {
        "id": "mOqmhuG7FXkB"
      },
      "execution_count": 69,
      "outputs": []
    },
    {
      "cell_type": "code",
      "source": [
        "status, m = parking_length()"
      ],
      "metadata": {
        "id": "fzeFqmM4ZPSi"
      },
      "execution_count": 71,
      "outputs": []
    },
    {
      "cell_type": "markdown",
      "source": [
        "##### **Results**"
      ],
      "metadata": {
        "id": "CoV5jD2MFfar"
      }
    },
    {
      "cell_type": "markdown",
      "source": [
        "For unconstraint capacity, the cars are parked almost equaly in both sides."
      ],
      "metadata": {
        "id": "b6nzKe3plHul"
      }
    },
    {
      "cell_type": "code",
      "source": [
        "# Print the status of the solved LP\n",
        "print(\"Status = %s\" % status.solver.termination_condition)\n",
        "\n",
        "# Print the value of the variables at the optimum\n",
        "for i in m.I:\n",
        "  for j in m.J:\n",
        "    if value(m.y[j]) != 0:\n",
        "      print(\"%s = %f\" % (m.x[i,j], value(m.x[i,j])))\n",
        "      # print(\"%s = %f\" % (m.y[j], value(m.y[j])))\n",
        "\n",
        "\n",
        "# Print the value of the objective\n",
        "print(\"Objective = %f\" % value(m.OBJ))"
      ],
      "metadata": {
        "id": "GFgdKidqHKj6",
        "colab": {
          "base_uri": "https://localhost:8080/"
        },
        "outputId": "09c267d0-c946-49a7-d9b8-b6634c672974"
      },
      "execution_count": 73,
      "outputs": [
        {
          "output_type": "stream",
          "name": "stdout",
          "text": [
            "Status = optimal\n",
            "x[0,0] = 1.000000\n",
            "x[0,1] = 0.000000\n",
            "x[1,0] = 0.000000\n",
            "x[1,1] = 1.000000\n",
            "x[2,0] = 0.000000\n",
            "x[2,1] = 1.000000\n",
            "x[3,0] = 0.000000\n",
            "x[3,1] = 1.000000\n",
            "x[4,0] = 0.000000\n",
            "x[4,1] = 1.000000\n",
            "x[5,0] = 1.000000\n",
            "x[5,1] = 0.000000\n",
            "x[6,0] = 0.000000\n",
            "x[6,1] = 1.000000\n",
            "x[7,0] = 0.000000\n",
            "x[7,1] = 1.000000\n",
            "x[8,0] = 1.000000\n",
            "x[8,1] = 0.000000\n",
            "x[9,0] = 1.000000\n",
            "x[9,1] = 0.000000\n",
            "x[10,0] = 0.000000\n",
            "x[10,1] = 1.000000\n",
            "x[11,0] = 1.000000\n",
            "x[11,1] = 0.000000\n",
            "x[12,0] = 1.000000\n",
            "x[12,1] = 0.000000\n",
            "x[13,0] = 1.000000\n",
            "x[13,1] = 0.000000\n",
            "x[14,0] = 0.000000\n",
            "x[14,1] = 1.000000\n",
            "Objective = 0.100000\n"
          ]
        }
      ]
    },
    {
      "cell_type": "code",
      "source": [
        "left=0\n",
        "for i in m.I:\n",
        "  if value(m.x[i,0]) != 0:\n",
        "      print(\"%s = %f\" % (m.x[i,0], CAR_LENGTH[i] * value(m.x[i,0])))\n",
        "      left +=  CAR_LENGTH[i] * value(m.x[i,0])\n",
        "print(\"\\n---------------------\")\n",
        "print(\"Length left %f: \" % left)\n",
        "print(\"\\n============================\")\n",
        "\n",
        "right=0\n",
        "for i in m.I:\n",
        "  if value(m.x[i,1]) != 0:\n",
        "      print(\"%s = %f\" % (m.x[i,1],  CAR_LENGTH[i] * value(m.x[i,1])))\n",
        "      right +=  CAR_LENGTH[i] * value(m.x[i,1])\n",
        "print(\"\\n---------------------\")\n",
        "print(\"Length right %f: \" % right)"
      ],
      "metadata": {
        "id": "_IxD2ylAHOLM",
        "colab": {
          "base_uri": "https://localhost:8080/"
        },
        "outputId": "c1e85758-d3d0-41c2-c0af-92287556cb2a"
      },
      "execution_count": 75,
      "outputs": [
        {
          "output_type": "stream",
          "name": "stdout",
          "text": [
            "x[0,0] = 4.000000\n",
            "x[5,0] = 5.200000\n",
            "x[8,0] = 3.200000\n",
            "x[9,0] = 4.500000\n",
            "x[11,0] = 3.300000\n",
            "x[12,0] = 3.800000\n",
            "x[13,0] = 4.600000\n",
            "\n",
            "---------------------\n",
            "Length left 28.600000: \n",
            "\n",
            "============================\n",
            "x[1,1] = 4.500000\n",
            "x[2,1] = 5.000000\n",
            "x[3,1] = 4.100000\n",
            "x[4,1] = 2.400000\n",
            "x[6,1] = 3.700000\n",
            "x[7,1] = 3.500000\n",
            "x[10,1] = 2.300000\n",
            "x[14,1] = 3.000000\n",
            "\n",
            "---------------------\n",
            "Length right 28.500000: \n"
          ]
        }
      ]
    },
    {
      "cell_type": "markdown",
      "source": [
        "For constraint capacity, with 15m for one of the road sides"
      ],
      "metadata": {
        "id": "__ng4cjglQJe"
      }
    },
    {
      "cell_type": "code",
      "source": [
        "def capacity_restriction(m, j):\n",
        "  '''\n",
        "  This function represents the constraints of the road side capacity.\n",
        "  The input isthe lenght of cars and the capacity per side of the road.\n",
        "  '''\n",
        "  temp = sum(CAR_LENGTH[i] * m.x[i,j] for i in m.I) - CAPACITY_2[j] * m.y[j]\n",
        "  if type(temp) is int:    # This will be true if the sum was empty\n",
        "    return Constraint.Skip\n",
        "  return temp <= 0"
      ],
      "metadata": {
        "id": "I7uuxvOJlYu1"
      },
      "execution_count": 87,
      "outputs": []
    },
    {
      "cell_type": "code",
      "source": [
        "status, m = parking_length()"
      ],
      "metadata": {
        "id": "UH9EIVwPl5z9"
      },
      "execution_count": 88,
      "outputs": []
    },
    {
      "cell_type": "code",
      "source": [
        "# Print the status of the solved LP\n",
        "print(\"Status = %s\" % status.solver.termination_condition)\n",
        "\n",
        "# Print the value of the variables at the optimum\n",
        "for i in m.I:\n",
        "  for j in m.J:\n",
        "    if value(m.y[j]) != 0:\n",
        "      print(\"%s = %f\" % (m.x[i,j], value(m.x[i,j])))\n",
        "      # print(\"%s = %f\" % (m.y[j], value(m.y[j])))\n",
        "\n",
        "\n",
        "# Print the value of the objective\n",
        "print(\"Objective = %f\" % value(m.OBJ))"
      ],
      "metadata": {
        "colab": {
          "base_uri": "https://localhost:8080/"
        },
        "id": "JjCPHmJgleMl",
        "outputId": "374b8df8-3f1c-42d8-eb2e-31902b6b0d17"
      },
      "execution_count": 89,
      "outputs": [
        {
          "output_type": "stream",
          "name": "stdout",
          "text": [
            "Status = optimal\n",
            "x[0,0] = 1.000000\n",
            "x[0,1] = 0.000000\n",
            "x[1,0] = 1.000000\n",
            "x[1,1] = 0.000000\n",
            "x[2,0] = 0.000000\n",
            "x[2,1] = 1.000000\n",
            "x[3,0] = 1.000000\n",
            "x[3,1] = 0.000000\n",
            "x[4,0] = 0.000000\n",
            "x[4,1] = 1.000000\n",
            "x[5,0] = 1.000000\n",
            "x[5,1] = 0.000000\n",
            "x[6,0] = 1.000000\n",
            "x[6,1] = 0.000000\n",
            "x[7,0] = 1.000000\n",
            "x[7,1] = 0.000000\n",
            "x[8,0] = 1.000000\n",
            "x[8,1] = 0.000000\n",
            "x[9,0] = 1.000000\n",
            "x[9,1] = 0.000000\n",
            "x[10,0] = 1.000000\n",
            "x[10,1] = 0.000000\n",
            "x[11,0] = 1.000000\n",
            "x[11,1] = 0.000000\n",
            "x[12,0] = 1.000000\n",
            "x[12,1] = 0.000000\n",
            "x[13,0] = 0.000000\n",
            "x[13,1] = 1.000000\n",
            "x[14,0] = 0.000000\n",
            "x[14,1] = 1.000000\n",
            "Objective = 27.100000\n"
          ]
        }
      ]
    },
    {
      "cell_type": "code",
      "source": [
        "left=0\n",
        "for i in m.I:\n",
        "  if value(m.x[i,0]) != 0:\n",
        "      print(\"%s = %f\" % (m.x[i,0], CAR_LENGTH[i] * value(m.x[i,0])))\n",
        "      left +=  CAR_LENGTH[i] * value(m.x[i,0])\n",
        "print(\"\\n---------------------\")\n",
        "print(\"Length left %f: \" % left)\n",
        "print(\"\\n============================\")\n",
        "\n",
        "right=0\n",
        "for i in m.I:\n",
        "  if value(m.x[i,1]) != 0:\n",
        "      print(\"%s = %f\" % (m.x[i,1],  CAR_LENGTH[i] * value(m.x[i,1])))\n",
        "      right +=  CAR_LENGTH[i] * value(m.x[i,1])\n",
        "print(\"\\n---------------------\")\n",
        "print(\"Length right %f: \" % right)"
      ],
      "metadata": {
        "colab": {
          "base_uri": "https://localhost:8080/"
        },
        "id": "4N-MQAHPmAH8",
        "outputId": "8b5c9571-e8af-45ea-d192-b9d62636b3fc"
      },
      "execution_count": 90,
      "outputs": [
        {
          "output_type": "stream",
          "name": "stdout",
          "text": [
            "x[0,0] = 4.000000\n",
            "x[1,0] = 4.500000\n",
            "x[3,0] = 4.100000\n",
            "x[5,0] = 5.200000\n",
            "x[6,0] = 3.700000\n",
            "x[7,0] = 3.500000\n",
            "x[8,0] = 3.200000\n",
            "x[9,0] = 4.500000\n",
            "x[10,0] = 2.300000\n",
            "x[11,0] = 3.300000\n",
            "x[12,0] = 3.800000\n",
            "\n",
            "---------------------\n",
            "Length left 42.100000: \n",
            "\n",
            "============================\n",
            "x[2,1] = 5.000000\n",
            "x[4,1] = 2.400000\n",
            "x[13,1] = 4.600000\n",
            "x[14,1] = 3.000000\n",
            "\n",
            "---------------------\n",
            "Length right 15.000000: \n"
          ]
        }
      ]
    },
    {
      "cell_type": "markdown",
      "source": [
        "#### **Heuristic problem**"
      ],
      "metadata": {
        "id": "BqpUlhwKKP1z"
      }
    },
    {
      "cell_type": "markdown",
      "source": [
        "Heuristics are procedures for finding a solution based on rules that do not guarantee that the optimum will be reached. A heuristic for this problem could be first fit decreasing (FFD) or best fit decreasing (BFD). FFD consists of arranging the elements in non-increasing order of their size, and then for each element, trying to insert it into the first open bin, the space where it fits; if no such space exists, then open a new space and insert the element there."
      ],
      "metadata": {
        "id": "10Y0n9jcs78z"
      }
    },
    {
      "cell_type": "code",
      "source": [
        "CAR_LENGTH = [4, 4.5, 5, 4.1, 2.4, 5.2, 3.7, 3.5, 3.2, 4.5, 2.3, 3.3, 3.8, 4.6, 3]"
      ],
      "metadata": {
        "id": "kasUiKx-ojWN"
      },
      "execution_count": 194,
      "outputs": []
    },
    {
      "cell_type": "code",
      "source": [
        "def FFD(r, CAPACITY):\n",
        "  '''\n",
        "  This function is the first-fit decreasing (FFD) arranging the items in non-increasing\n",
        "  order of their size, and then for each item try inserting it in the first open bin where it fits.\n",
        "  '''\n",
        "  remain = [CAPACITY]\n",
        "  sol = [[]]\n",
        "  for item in sorted(r, reverse=True):\n",
        "      for j,free in enumerate(remain):\n",
        "          if free >= item:\n",
        "              remain[j] -= item\n",
        "              sol[j].append(item)\n",
        "              break\n",
        "      else:\n",
        "          sol.append([item])\n",
        "          remain.append(B-item)\n",
        "  return sol"
      ],
      "metadata": {
        "id": "BRpeWXEFxYYY"
      },
      "execution_count": 195,
      "outputs": []
    },
    {
      "cell_type": "code",
      "source": [
        "def solver(r,CAPACITY):\n",
        "  '''\n",
        "  This function uses the output of first-fit decreasing (FFD) to solve the problem of\n",
        "  minimizing the occupied length of the road.\n",
        "  '''\n",
        "  #Start with a big value for objective function\n",
        "  M=1000\n",
        "  sol = FFD(r, CAPACITY)\n",
        "  for s in sol:\n",
        "    total_cars = [4, 4.5, 5, 4.1, 2.4, 5.2, 3.7, 3.5, 3.2, 4.5, 2.3, 3.3, 3.8, 4.6, 3]\n",
        "    #calculate the total size of first elements from FFD\n",
        "    S=sum(s)\n",
        "    for i in s:\n",
        "      total_cars.pop(total_cars.index(i))\n",
        "    #calculate the total size of elements without the group found by FFD\n",
        "    T=sum(total_cars)\n",
        "    #calculate the new value of the objective function\n",
        "    obj = abs(T-S)\n",
        "    #In case is lower, update the value and continue until find the minimum\n",
        "    if obj < M:\n",
        "      M = abs(T-S)\n",
        "      left = s\n",
        "      right = total_cars\n",
        "    else:\n",
        "      continue\n",
        "  return left, right, M"
      ],
      "metadata": {
        "id": "PmAyyFytpK25"
      },
      "execution_count": 196,
      "outputs": []
    },
    {
      "cell_type": "code",
      "source": [
        "#Result for unlimited capacity\n",
        "left, right, Obj = solver(CAR_LENGTH,CAPACITY=1000)\n",
        "print(\"The cars parked on left side are: %s\" %(left))\n",
        "print(\"Length left %f: \" % sum(left))\n",
        "print(\"\\n---------------------\")\n",
        "print(\"The cars parked on rigth side are: %s\" %(right))\n",
        "print(\"Length right %f: \" % sum(right))\n",
        "print(\"\\n---------------------\")\n",
        "print(\"The Objective function value is %.2f \" %(Obj))"
      ],
      "metadata": {
        "colab": {
          "base_uri": "https://localhost:8080/"
        },
        "id": "OGllV4IDv-h1",
        "outputId": "1702e53f-5b7f-418f-ef9d-6642ee4cb337"
      },
      "execution_count": 198,
      "outputs": [
        {
          "output_type": "stream",
          "name": "stdout",
          "text": [
            "The cars parked on left side are: [5.2, 5, 4.6, 4.5, 4.5, 4.1, 4, 3.8, 3.7, 3.5, 3.3, 3.2, 3, 2.4, 2.3]\n",
            "Length left 57.100000: \n",
            "\n",
            "---------------------\n",
            "The cars parked on rigth side are: []\n",
            "Length right 0.000000: \n",
            "\n",
            "---------------------\n",
            "The Objective function value is 57.10 \n"
          ]
        }
      ]
    },
    {
      "cell_type": "code",
      "source": [
        "#Result for a limited capacity of 15.\n",
        "left, right, Obj = solver(CAR_LENGTH,CAPACITY=15)\n",
        "print(\"The cars parked on left side are: %s\" %(left))\n",
        "print(\"Length left %f: \" % sum(left))\n",
        "print(\"\\n---------------------\")\n",
        "print(\"The cars parked on rigth side are: %s\" %(right))\n",
        "print(\"Length right %f: \" % sum(right))\n",
        "print(\"\\n---------------------\")\n",
        "print(\"The Objective function value is %.2f \" %(Obj))"
      ],
      "metadata": {
        "colab": {
          "base_uri": "https://localhost:8080/"
        },
        "id": "mg56vYvXxnCg",
        "outputId": "66bf9028-67e8-4543-8083-4b815397cb6b"
      },
      "execution_count": 199,
      "outputs": [
        {
          "output_type": "stream",
          "name": "stdout",
          "text": [
            "The cars parked on left side are: [5.2, 5, 4.6]\n",
            "Length left 14.800000: \n",
            "\n",
            "---------------------\n",
            "The cars parked on rigth side are: [4, 4.5, 4.1, 2.4, 3.7, 3.5, 3.2, 4.5, 2.3, 3.3, 3.8, 3]\n",
            "Length right 42.300000: \n",
            "\n",
            "---------------------\n",
            "The Objective function value is 27.50 \n"
          ]
        }
      ]
    },
    {
      "cell_type": "markdown",
      "source": [
        "### **REFERENCE**\n",
        "\n",
        "* Mathematical Optimization: Solving Problems using SCIP and Python https://scipbook.readthedocs.io/en/latest/bpp.html\n",
        "\n",
        "* P. C. Gilmore and R. E. Gomory. A linear programming approach to the cutting-stock problem. Operations Research, 9(6):849–859, 1961\n",
        "https://www.researchgate.net/publication/266478800_A_Linear_Programming_Approach_to_the_Cutting_Stock_Problem_I\n",
        "\n",
        "* P. C. Gilmore and R. E. Gomory. A linear programming approach to the cutting stock problem–Part II. Operations Research, 11(6):863–888, 1963.\n",
        "https://www.researchgate.net/publication/265461353_A_Linear_Programming_Approach_to_the_Cutting_Stock_Problem-Part_II\n",
        "\n",
        "\n",
        "* Pyomo online documentation http://pyomo.readthedocs.io/\n",
        "\n",
        "* GLPK online documentation https://www.gnu.org/software/glpk/#TOCdocumentation"
      ],
      "metadata": {
        "id": "Aqxzx0pDD-GL"
      }
    },
    {
      "cell_type": "code",
      "execution_count": null,
      "metadata": {
        "id": "Rz8ICxAjDMsY"
      },
      "outputs": [],
      "source": []
    }
  ]
}